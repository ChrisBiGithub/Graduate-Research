{
 "cells": [
  {
   "cell_type": "markdown",
   "metadata": {},
   "source": [
    "### "
   ]
  },
  {
   "cell_type": "markdown",
   "metadata": {},
   "source": [
    "##### Quick notes on the precomputed .mat files:  it also contains label for RNA, have to remove those labels before using them"
   ]
  },
  {
   "cell_type": "code",
   "execution_count": 1,
   "metadata": {},
   "outputs": [],
   "source": [
    "import warnings\n",
    "warnings.filterwarnings('ignore')"
   ]
  },
  {
   "cell_type": "code",
   "execution_count": 2,
   "metadata": {},
   "outputs": [],
   "source": [
    "import Bio\n",
    "import scipy.io\n",
    "import numpy as np\n",
    "import os, os.path\n",
    "import math\n",
    "from Bio.PDB import *\n",
    "from sklearn.preprocessing import OneHotEncoder\n",
    "from mendeleev import element as ele"
   ]
  },
  {
   "cell_type": "code",
   "execution_count": 3,
   "metadata": {},
   "outputs": [],
   "source": [
    "AMINO_ACIDS = np.array(['ALA', 'CYS', 'ASP', 'GLU', 'PHE', 'GLY', 'HIS', 'ILE', 'LYS', 'LEU', 'MET', 'ASN', 'PRO', 'GLN', 'ARG'\n",
    "               , 'SER','THR', 'VAL', 'TRP', 'TYR'])"
   ]
  },
  {
   "cell_type": "code",
   "execution_count": 4,
   "metadata": {
    "scrolled": false
   },
   "outputs": [],
   "source": [
    "\"\"\"\n",
    "Extract labels from tongji dataset\n",
    "\"\"\"\n",
    "lab_path = \"../datasets/Tongji/benchmark/precomputed/\"\n",
    "out_file = open(\"./label/labels.txt\", \"w+\")\n",
    "\n",
    "odditties = ['1FJG', '1JJ2', '1N32']\n",
    "\n",
    "for file in os.listdir(lab_path):\n",
    "#     print(file)\n",
    "    mat = scipy.io.loadmat(lab_path + file)\n",
    "    name = mat['File'][0][0][2][0]\n",
    "#     if name in odditties:\n",
    "#         continue #skip the wierd ones for now\n",
    "    labels = mat['File'][0][0][3]\n",
    "\n",
    "    out_file.write((str(name) + '\\t').rstrip('\\n'))\n",
    "    for i, label in enumerate(labels):\n",
    "        out_file.write((str(label[0]) + '\\t').rstrip('\\n'))\n",
    "\n",
    "    out_file.write('\\n')\n",
    "\n",
    "out_file.close()"
   ]
  },
  {
   "cell_type": "code",
   "execution_count": 5,
   "metadata": {},
   "outputs": [],
   "source": [
    "in_path = \"../datasets/Tongji/benchmark/pdb/\"\n",
    "out_path = \"./trial_data/\""
   ]
  },
  {
   "cell_type": "code",
   "execution_count": 6,
   "metadata": {
    "scrolled": true
   },
   "outputs": [
    {
     "name": "stdout",
     "output_type": "stream",
     "text": [
      "62\n",
      "{'3J00', '1MZP', '1FFY', '2XZM', '1MNB', '2BBV', '1L1C', '1JBS', '2A8V', '1D6K', '3PLA', '2XXA', '1N32', '1M8W', '1G70', '1UVJ', '1K1G', '1F7U', '2BU1', '2L5D', '3Q1R', '2FMT', '1I6U', '1B23', '1RC7', '1SER', '3IZW', '2XD0', '1C0A', '1QF6', '1M8V', '2Y13', '1J1U', '1KNZ', '1Q2R', '1DZ5', '1GTF', '2RRA', '1MMS', '1I9F', '1R9F', '3IZV', '1G1X', '1H3E', '3PDM', '1JJ2', '1T0K', '1A34', '3Q2T', '1K8W', '3PIP', '1ASY', '1F6U', '1A4T', '1IVS', '3J01', '1AV6', '2XZN', '1QTQ', '1N78', '1FJG', '1H4S'}\n"
     ]
    }
   ],
   "source": [
    "temp = []\n",
    "for file in os.listdir(lab_path):\n",
    "    temp.append(file[:4])\n",
    "\n",
    "print(len(set(temp)))\n",
    "print(set(temp))"
   ]
  },
  {
   "cell_type": "code",
   "execution_count": 7,
   "metadata": {
    "scrolled": true
   },
   "outputs": [
    {
     "name": "stdout",
     "output_type": "stream",
     "text": [
      "There are no missing pdb\n",
      "{'1B23': <Structure id=1B23>, '2XZN': <Structure id=2XZN>, '1I9F': <Structure id=1I9F>, '2XD0': <Structure id=2XD0>, '3PIP': <Structure id=3PIP>, '3J01': <Structure id=3J01>, '1QTQ': <Structure id=1QTQ>, '1G1X': <Structure id=1G1X>, '1L1C': <Structure id=1L1C>, '1IVS': <Structure id=1IVS>, '2L5D': <Structure id=2L5D>, '3IZW': <Structure id=3IZW>, '2A8V': <Structure id=2A8V>, '1AV6': <Structure id=1AV6>, '3PDM': <Structure id=3PDM>, '3PLA': <Structure id=3PLA>, '2Y13': <Structure id=2Y13>, '2XXA': <Structure id=2XXA>, '1JBS': <Structure id=1JBS>, '1M8W': <Structure id=1M8W>, '1R9F': <Structure id=1R9F>, '2FMT': <Structure id=2FMT>, '1SER': <Structure id=1SER>, '1ASY': <Structure id=1ASY>, '1N78': <Structure id=1N78>, '1F6U': <Structure id=1F6U>, '1KNZ': <Structure id=1KNZ>, '1I6U': <Structure id=1I6U>, '1MMS': <Structure id=1MMS>, '1GTF': <Structure id=1GTF>, '1QF6': <Structure id=1QF6>, '2BU1': <Structure id=2BU1>, '3J00': <Structure id=3J00>, '1FFY': <Structure id=1FFY>, '1D6K': <Structure id=1D6K>, '1C0A': <Structure id=1C0A>, '1M8V': <Structure id=1M8V>, '2XZM': <Structure id=2XZM>, '3Q2T': <Structure id=3Q2T>, '1A4T': <Structure id=1A4T>, '1MNB': <Structure id=1MNB>, '1T0K': <Structure id=1T0K>, '1K8W': <Structure id=1K8W>, '3Q1R': <Structure id=3Q1R>, '1DZ5': <Structure id=1DZ5>, '1RC7': <Structure id=1RC7>, '1Q2R': <Structure id=1Q2R>, '3IZV': <Structure id=3IZV>, '1H3E': <Structure id=1H3E>, '1J1U': <Structure id=1J1U>, '1A34': <Structure id=1A34>, '1G70': <Structure id=1G70>, '1MZP': <Structure id=1MZP>, '1F7U': <Structure id=1F7U>, '2RRA': <Structure id=2RRA>, '1H4S': <Structure id=1H4S>, '2BBV': <Structure id=2BBV>, '1UVJ': <Structure id=1UVJ>, '1K1G': <Structure id=1K1G>}\n"
     ]
    }
   ],
   "source": [
    "    \"\"\"\n",
    "    Load protein structures based on the labels\n",
    "    \"\"\"\n",
    "    labels_file_path = './label/labels.txt'\n",
    "\n",
    "    proteins = []\n",
    "    missing_protiens = []\n",
    "    protein_structures = {}\n",
    "    parser = PDBParser()\n",
    "\n",
    "    labels_file = open(labels_file_path, 'r')\n",
    "\n",
    "    for label in labels_file:\n",
    "        if label.split('\\t')[0] in odditties:\n",
    "            continue #exclude the one with weird pdbs\n",
    "        proteins.append(label.split('\\t')[0])\n",
    "\n",
    "    for p in proteins:\n",
    "        file_name = p + '.pdb'\n",
    "        if file_name not in os.listdir(in_path):\n",
    "            missing_protiens.append(p)\n",
    "\n",
    "    if len(missing_protiens) == 0:\n",
    "        print(\"There are no missing pdb\")\n",
    "    else:\n",
    "        print(\"Missing proteins pdb:\", missing_protiens)\n",
    "\n",
    "    for p in proteins:\n",
    "        protein_structures[p] = parser.get_structure(p, in_path + p + '.pdb')\n",
    "\n",
    "    print(protein_structures)\n",
    "    labels_file.close()"
   ]
  },
  {
   "cell_type": "code",
   "execution_count": 8,
   "metadata": {},
   "outputs": [
    {
     "name": "stdout",
     "output_type": "stream",
     "text": [
      "{'1JJ2', '1FJG', '1N32'}\n"
     ]
    }
   ],
   "source": [
    "print(set(temp) - set(proteins))"
   ]
  },
  {
   "cell_type": "code",
   "execution_count": 52,
   "metadata": {},
   "outputs": [],
   "source": [
    "\"\"\"\n",
    "Clean up the ASA files to remove non-amino acid residue\n",
    "\"\"\"\n",
    "asa_path = './SASAs/proteins/'\n",
    "for p in proteins:\n",
    "    with open(asa_path + p + '_protein.pdb_SASA.txt', 'r') as f:\n",
    "        lines = f.readlines()\n",
    "    with open(asa_path + p + '_SASA.txt', 'w') as f:\n",
    "        for line in lines:\n",
    "            if line.rstrip('\\n').split(' ')[2] in AMINO_ACIDS:\n",
    "                f.write(line)\n",
    "        "
   ]
  },
  {
   "cell_type": "code",
   "execution_count": 10,
   "metadata": {},
   "outputs": [],
   "source": [
    "\"\"\"\n",
    "Calculating protein COM base on coordinates and mass (equation from CALCOM)\n",
    "\"\"\"\n",
    "def proteinCOM(p_chains):\n",
    "    atoms = ['N', 'C', 'O', 'H', 'S']\n",
    "    com = np.array([0., 0., 0.])\n",
    "    total_mass = 0\n",
    "    \n",
    "    for chain in p_chains:\n",
    "        for residue in chain:\n",
    "            for atom in residue:\n",
    "                name = atom.get_id()[0]\n",
    "#                 print(atom.get_id())\n",
    "                if name not in atoms:\n",
    "#                     print(atom.get_id())\n",
    "                    break\n",
    "                a = ele(name)\n",
    "                \n",
    "                com += atom.get_coord() * a.mass\n",
    "                total_mass += a.mass\n",
    "    \n",
    "    result = com/total_mass\n",
    "    return result"
   ]
  },
  {
   "cell_type": "code",
   "execution_count": null,
   "metadata": {
    "scrolled": true
   },
   "outputs": [
    {
     "name": "stdout",
     "output_type": "stream",
     "text": [
      "Processing protein 1B23.\n",
      "Protein 1B23 is done.\n",
      "Processing protein 2XZN.\n"
     ]
    }
   ],
   "source": [
    "\"\"\"\n",
    "Make files with features\n",
    "\"\"\"\n",
    "\n",
    "'''Load encoder'''\n",
    "encoder = OneHotEncoder(sparse = False)\n",
    "encoder.fit(AMINO_ACIDS.reshape(-1, 1))\n",
    "\n",
    "'''Get file path ready'''\n",
    "write_path = './trial_data/'\n",
    "\n",
    "'''Get labels'''\n",
    "label_file = open('./label/labels.txt', 'r')\n",
    "labels = {}\n",
    "for line in label_file:\n",
    "    content = line.rstrip('\\n').split('\\t')\n",
    "    labels[content[0]] = content[1:-1]\n",
    "\n",
    "i = 1\n",
    "for p in proteins:\n",
    "    print(\"Processing protein {}.\".format(p))\n",
    "    \n",
    "    structure = protein_structures[p]\n",
    "    res_label = labels[p]\n",
    "\n",
    "    asa_file = open(asa_path + p + '_SASA.txt', 'r')\n",
    "    out_file = open(write_path + p + '.txt', 'w+')\n",
    "\n",
    "\n",
    "    #Separate the proteins and RNA from each other in the complex\n",
    "    p_chains = []\n",
    "    n_chains = []\n",
    "    for chain in structure[0]:\n",
    "        for residue in chain:\n",
    "            #No need to continue if the chain is not an amino acid chain\n",
    "            if residue.get_resname() not in AMINO_ACIDS:\n",
    "                if chain not in n_chains:\n",
    "                    n_chains.append(chain.get_id)\n",
    "                break\n",
    "            if chain not in p_chains:\n",
    "                p_chains.append(chain)\n",
    "                break\n",
    "\n",
    "    #Calculte center of mass of the protein structure\n",
    "    #com = proteinCOM(p_chains)\n",
    "    com = proteinCOM(p_chains)\n",
    "\n",
    "    '''Temporarily loading all residues'''\n",
    "    res_list = []\n",
    "    for chain in p_chains:\n",
    "        for residue in chain:\n",
    "            if residue.get_resname() not in AMINO_ACIDS:\n",
    "                continue\n",
    "            res_list.append(residue)\n",
    "\n",
    "\n",
    "    '''Getting labels for only amino acids'''\n",
    "    ares_label = res_label[-len(res_list):]\n",
    "    \n",
    "    for residue, lab in zip(res_list, ares_label):\n",
    "        #Get the one hot representation for the residue \n",
    "        if residue.get_resname() not in AMINO_ACIDS:\n",
    "            continue\n",
    "        \n",
    "        output = {} #temporarily saving the output\n",
    "\n",
    "        r = np.array([residue.get_resname()])\n",
    "\n",
    "        one_hot = encoder.transform(r.reshape(-1, 1))[0]\n",
    "        output['one_hot'] = one_hot\n",
    "\n",
    "        '''Get index'''\n",
    "        '''maybe try the sinusoidal '''\n",
    "        index = residue.get_id()[1]\n",
    "        output['index'] = str(index)\n",
    "\n",
    "        '''Get distance from center of mass'''\n",
    "        dis = np.linalg.norm(residue['CA'].get_coord() - com)\n",
    "        output['dis'] = str(dis)\n",
    "\n",
    "        '''Get hydrophobicity'''\n",
    "        hydro = 0\n",
    "        if residue.get_resname() == 'GLY':\n",
    "            output['hydrophobicity'] = str(hydro)\n",
    "        else:\n",
    "            temp = np.array([0., 0., 0.])\n",
    "            sc_mass = 0\n",
    "\n",
    "            sc_flag = False\n",
    "            for atom in residue:\n",
    "                if atom.get_id() != 'CB' and not sc_flag:\n",
    "                    continue\n",
    "\n",
    "                sc_flag = True\n",
    "                mass = ele(atom.get_id()[0]).mass\n",
    "                temp += atom.get_coord() * mass\n",
    "                sc_mass += mass\n",
    "\n",
    "\n",
    "            sc_com = temp/sc_mass\n",
    "            dot = np.dot(sc_com, com)\n",
    "            norm_sc = np.linalg.norm(sc_com)\n",
    "            norm_protein = np.linalg.norm(com)\n",
    "            hydro = dot / (norm_sc * norm_protein)\n",
    "            output['hydrophobicity'] = str(hydro)\n",
    "\n",
    "############################################################################################################            \n",
    "        '''Get ASA'''\n",
    "        '''ASA is calculated through another python script and saved in certain location'''\n",
    "        chain_id = residue.get_parent().get_id()\n",
    "        res_id = str(residue.get_id()[1])\n",
    "        res_name = residue.get_resname()\n",
    "        \n",
    "        for line in asa_file:\n",
    "            content = line.rstrip('\\n').split(' ')\n",
    "            if chain_id == content[0] and res_id == content[1] and res_name == content[2]:\n",
    "                output['ASA'] = content[-1]\n",
    "                break\n",
    "\n",
    "        '''Get propensity'''\n",
    "\n",
    "\n",
    "        '''Get label'''\n",
    "        output['label'] = lab\n",
    "        \n",
    "        out_file.write(residue.get_resname().rstrip('\\n') + '\\t')\n",
    "        for key in output:\n",
    "            if key == 'one_hot':\n",
    "                out_file.write('\\t'.join(str(t) for t in output[key]).rstrip('\\n') + '\\t')\n",
    "            else:\n",
    "                out_file.write(output[key] + '\\t')\n",
    "        out_file.write('\\n')\n",
    "\n",
    "\n",
    "    out_file.close()\n",
    "    asa_file.close()\n",
    "    print(\"Protein {} is done.\".format(p))    \n",
    "\n",
    "\n",
    "label_file.close()"
   ]
  },
  {
   "cell_type": "code",
   "execution_count": 11,
   "metadata": {},
   "outputs": [],
   "source": [
    "def proteinCOM_testing(p_chains):\n",
    "    return np.array([1., 1., 1.])"
   ]
  },
  {
   "cell_type": "code",
   "execution_count": null,
   "metadata": {},
   "outputs": [],
   "source": [
    "\"\"\"Temporarily disabled code\"\"\"\n",
    "# \"\"\"Downloading data from RCSB PDB\"\"\"\n",
    "# if(not os.path.isdir('./pdb')):\n",
    "#     pdbl = PDBList()\n",
    "#     download_proteins_set = set(proteins)\n",
    "\n",
    "#     for i in download_proteins_set:\n",
    "#         pdbl.retrieve_pdb_file(pdb_code = i,pdir='../datasets/Tongji/pdb')\n",
    "\n",
    "###############################################################################################################\n",
    "\n",
    "# \"\"\"Information about the downloaded files\"\"\"\n",
    "\n",
    "# print(\"Number of unique proteins the dataset {} is {}.\".format(\"Tongji\", len(set(proteins))))\n",
    "\n",
    "# pdb_dir = '../datasets/Tongji/benchmark/pdb'\n",
    "# print(\"Number of protein structure have been downloaded is %2d.\" %len([name for name in os.listdir(pdb_dir) if os.path.isfile(os.path.join(pdb_dir, name))]))\n",
    "\n",
    "# \"\"\"Files that are obselete (for whatever reasons)\"\"\"\n",
    "# pdbs = [name[:4].upper() for name in os.listdir(pdb_dir)]\n",
    "# obsolete_pdbs = list(set(proteins) - set(pdbs))\n",
    "# print(\"Number of obsolete pdbs of RPI2241 datasets in RCSB protein databank is %2d, list as follow:\" %(len(obsolete_pdbs)))\n",
    "# i = 0 \n",
    "# for name in obsolete_pdbs:\n",
    "#     if i < 12:\n",
    "#         print(name, end = '\\t')\n",
    "#     else:\n",
    "#         i = 0\n",
    "#         print()\n",
    "#         print(name, end = '\\t')\n",
    "    \n",
    "#     i += 1\n",
    "\n",
    "# \"\"\"Empty header?\"\"\"\n",
    "# structure = protein_structures[0]\n",
    "# print(structure.header)\n",
    "\n",
    "# print(structure[0]['A'].get_residues())\n",
    "\n",
    "###############################################################################################################\n",
    "\n",
    "# \"\"\"Get the protein chain\"\"\"\n",
    "# protein_chains = []\n",
    "# for chain in structure[0]:\n",
    "#     for residue in chain:\n",
    "#         if residue.get_resname() in AMINO_ACIDS and chain not in protein_chains:\n",
    "#             protein_chains.append(chain)\n",
    "#         break\n",
    "#     continue\n",
    "\n",
    "# for chain in protein_chains: \n",
    "#     print(chain)\n",
    "\n",
    "###############################################################################################################\n",
    "\n",
    "# \"\"\"Make a dictionary that contain all the positive chain and residue sequence (only amino acid)\"\"\"\n",
    "\n",
    "# file.seek(0) #move back to top of file\n",
    "# positive_dic = {}\n",
    "\n",
    "# for line in file:\n",
    "#     content = line.split('\\t')\n",
    "    \n",
    "#     if content[0][:4] in obsolete_pdbs:\n",
    "#         continue\n",
    "        \n",
    "#     if content[0][:4] in positive_dic:\n",
    "#         positive_dic[content[0][:4]].update({content[0][-1]: content[2]})\n",
    "#     else:\n",
    "#         positive_dic[content[0][:4]] = {content[0][-1]: content[2]}\n",
    "        \n",
    "# # print(positive_dic)\n",
    "# print(\"Number of protein in dictionary is %2d.\" %len(positive_dic))"
   ]
  },
  {
   "cell_type": "code",
   "execution_count": null,
   "metadata": {},
   "outputs": [],
   "source": []
  }
 ],
 "metadata": {
  "kernelspec": {
   "display_name": "Python 3",
   "language": "python",
   "name": "python3"
  },
  "language_info": {
   "codemirror_mode": {
    "name": "ipython",
    "version": 3
   },
   "file_extension": ".py",
   "mimetype": "text/x-python",
   "name": "python",
   "nbconvert_exporter": "python",
   "pygments_lexer": "ipython3",
   "version": "3.7.4"
  }
 },
 "nbformat": 4,
 "nbformat_minor": 2
}
