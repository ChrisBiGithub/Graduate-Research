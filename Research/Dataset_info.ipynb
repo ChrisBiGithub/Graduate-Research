{
 "cells": [
  {
   "cell_type": "code",
   "execution_count": 1,
   "metadata": {},
   "outputs": [],
   "source": [
    "import numpy as np\n",
    "import sys\n",
    "import os "
   ]
  },
  {
   "cell_type": "code",
   "execution_count": 2,
   "metadata": {},
   "outputs": [
    {
     "name": "stdout",
     "output_type": "stream",
     "text": [
      "Total nubmer of the proteins available in the datasets: 59, total residue nubmers: 59243.\n"
     ]
    }
   ],
   "source": [
    "res_no_list = [[], []]\n",
    "directory = \"./trial_data/\"\n",
    "for file in os.listdir(directory):\n",
    "    if(file.endswith('.txt')):\n",
    "        res_no_list[0].append(file[:4])\n",
    "        with open(directory + file) as f:\n",
    "            res_no_list[1].append(len(f.readlines()))\n",
    "print(\"Total nubmer of the proteins available in the datasets: {}, total residue nubmers: {}.\".format(len(res_no_list[0]), sum(res_no_list[1])))"
   ]
  },
  {
   "cell_type": "code",
   "execution_count": 3,
   "metadata": {},
   "outputs": [
    {
     "data": {
      "text/plain": [
       "59"
      ]
     },
     "execution_count": 3,
     "metadata": {},
     "output_type": "execute_result"
    }
   ],
   "source": [
    "len(res_no_list[0])"
   ]
  },
  {
   "cell_type": "code",
   "execution_count": 4,
   "metadata": {},
   "outputs": [],
   "source": [
    "%matplotlib inline"
   ]
  },
  {
   "cell_type": "code",
   "execution_count": 5,
   "metadata": {},
   "outputs": [],
   "source": [
    "import matplotlib.pyplot as plt"
   ]
  },
  {
   "cell_type": "code",
   "execution_count": 6,
   "metadata": {},
   "outputs": [],
   "source": [
    "# from scipy.interpolate import make_interp_spline, BSpline\n",
    "\n",
    "# x = np.array([1,2,3,4])\n",
    "# xnew = np.linspace(1, 4, 300)\n",
    "\n",
    "# y = np.array(list(data_stat.values()))\n",
    "# spl = make_interp_spline(x, y, k=2)\n",
    "# ynew = spl(xnew)\n",
    "\n",
    "# plt.plot(xnew, ynew)\n",
    "# plt.show()"
   ]
  },
  {
   "cell_type": "code",
   "execution_count": 7,
   "metadata": {},
   "outputs": [
    {
     "data": {
      "text/plain": [
       "59"
      ]
     },
     "execution_count": 7,
     "metadata": {},
     "output_type": "execute_result"
    }
   ],
   "source": [
    "paper_dataset = {}\n",
    "\n",
    "with open('paper_data_info.txt', 'r') as f:\n",
    "    lines = f.readlines()\n",
    "    for line in lines:\n",
    "        line = line.strip('\\n')\n",
    "        temp = line.split(' ')\n",
    "        paper_dataset[temp[0]] = temp[1:]\n",
    "\n",
    "def get_key(x, dic):\n",
    "    for key, value in dic.items():\n",
    "        if x in value:\n",
    "            return key\n",
    "    raise Exception('Value does not exist')\n",
    "    return\n",
    "        \n",
    "complex_type = []\n",
    "temp = np.hstack(np.array([v for v in paper_dataset.values()]))\n",
    "dic_values = [str(i) for i in temp]\n",
    "for item in res_no_list[0]:\n",
    "    if item in dic_values:\n",
    "        complex_type.append(get_key(item, paper_dataset))\n",
    "    else: complex_type.append('unknown')\n",
    "len(complex_type)"
   ]
  },
  {
   "cell_type": "code",
   "execution_count": 8,
   "metadata": {},
   "outputs": [],
   "source": [
    "zipped = zip(res_no_list[0], res_no_list[1], complex_type)\n",
    "zipped = list(zipped)\n",
    "\n",
    "res = sorted(zipped, key = lambda x: x[1])"
   ]
  },
  {
   "cell_type": "code",
   "execution_count": 11,
   "metadata": {},
   "outputs": [
    {
     "data": {
      "text/plain": [
       "[('1MNB', 14, 'unknown'),\n",
       " ('1G70', 16, 'unknown'),\n",
       " ('1I9F', 19, 'unknown'),\n",
       " ('1A4T', 19, 'unknown'),\n",
       " ('1F6U', 55, 'unknown'),\n",
       " ('1D6K', 94, 'unknown'),\n",
       " ('2RRA', 99, 'unknown'),\n",
       " ('1L1C', 110, 'unknown'),\n",
       " ('3Q1R', 112, 'unknown'),\n",
       " ('1R9F', 117, 'Viral'),\n",
       " ('1K1G', 122, 'unknown'),\n",
       " ('2L5D', 134, 'unknown'),\n",
       " ('1A34', 147, 'Viral'),\n",
       " ('3PDM', 162, 'unknown'),\n",
       " ('1DZ5', 202, 'unknown'),\n",
       " ('1MMS', 203, 'Ribosomal'),\n",
       " ('1MZP', 213, 'Ribosomal'),\n",
       " ('1RC7', 220, 'unknown'),\n",
       " ('1I6U', 252, 'Ribosomal'),\n",
       " ('1AV6', 289, 'Viral'),\n",
       " ('1JBS', 298, 'Ribosomal'),\n",
       " ('1J1U', 300, 'tRNA'),\n",
       " ('1K8W', 304, 'tRNA'),\n",
       " ('2A8V', 354, 'mRNA'),\n",
       " ('2BU1', 387, 'Viral'),\n",
       " ('1B23', 405, 'tRNA'),\n",
       " ('1H3E', 427, 'tRNA'),\n",
       " ('1T0K', 462, 'Ribosomal'),\n",
       " ('1G1X', 466, 'unknown'),\n",
       " ('1QTQ', 529, 'tRNA'),\n",
       " ('1C0A', 585, 'tRNA'),\n",
       " ('3Q2T', 593, 'unknown'),\n",
       " ('1F7U', 607, 'tRNA'),\n",
       " ('2FMT', 628, 'tRNA'),\n",
       " ('1QF6', 641, 'tRNA'),\n",
       " ('1M8W', 681, 'unknown'),\n",
       " ('1SER', 793, 'tRNA'),\n",
       " ('1FFY', 917, 'tRNA'),\n",
       " ('1N78', 936, 'tRNA'),\n",
       " ('1H4S', 946, 'tRNA'),\n",
       " ('2XD0', 972, 'unknown'),\n",
       " ('1ASY', 980, 'tRNA'),\n",
       " ('2BBV', 985, 'unknown'),\n",
       " ('1M8V', 995, 'snRNP'),\n",
       " ('1KNZ', 1168, 'Viral'),\n",
       " ('2XXA', 1390, 'unknown'),\n",
       " ('1Q2R', 1496, 'tRNA'),\n",
       " ('1GTF', 1549, 'mRNA'),\n",
       " ('1IVS', 1724, 'unknown'),\n",
       " ('1UVJ', 1992, 'unknown'),\n",
       " ('3PLA', 2172, 'unknown'),\n",
       " ('3IZW', 2952, 'unknown'),\n",
       " ('3IZV', 2952, 'unknown'),\n",
       " ('3J00', 3057, 'unknown'),\n",
       " ('3PIP', 3167, 'unknown'),\n",
       " ('2Y13', 3467, 'unknown'),\n",
       " ('3J01', 4181, 'unknown'),\n",
       " ('2XZM', 5093, 'unknown'),\n",
       " ('2XZN', 5093, 'unknown')]"
      ]
     },
     "execution_count": 11,
     "metadata": {},
     "output_type": "execute_result"
    }
   ],
   "source": [
    "res"
   ]
  },
  {
   "cell_type": "code",
   "execution_count": 12,
   "metadata": {},
   "outputs": [],
   "source": [
    "data_stat = {}\n",
    "\n",
    "for i in sorted(res_no_list[1]):\n",
    "    if i <= 100:\n",
    "        if '1-100' not in data_stat:\n",
    "            data_stat['1-100'] = 1\n",
    "        data_stat['1-100'] += 1\n",
    "    if i <= 1000 and i > 100:\n",
    "        if '101-1000' not in data_stat:\n",
    "            data_stat['101-1000'] = 1\n",
    "        data_stat['101-1000'] += 1\n",
    "    if i <= 5000 and i > 1000:\n",
    "        if '1001-5000' not in data_stat:\n",
    "            data_stat['1001-5000'] = 1\n",
    "        data_stat['1001-5000'] += 1\n",
    "    if i > 5000:\n",
    "        if '5000+' not in data_stat:\n",
    "            data_stat['5000+'] = 1\n",
    "        data_stat['5000+'] += 1"
   ]
  },
  {
   "cell_type": "code",
   "execution_count": 13,
   "metadata": {},
   "outputs": [
    {
     "data": {
      "image/png": "[encoded data removed]",
      "text/plain": [
       "<Figure size 576x360 with 1 Axes>"
      ]
     },
     "metadata": {
      "needs_background": "light"
     },
     "output_type": "display_data"
    }
   ],
   "source": [
    "fig = plt.figure(figsize = (8,5))\n",
    "\n",
    "plt.title(\"Distribution of the data\")\n",
    "plt.xlabel('Amount of residues')\n",
    "plt.ylabel('Numbers')\n",
    "\n",
    "plt.plot(list(data_stat.keys()), list(data_stat.values()), linewidth = 3)\n",
    "plt.show()"
   ]
  },
  {
   "cell_type": "code",
   "execution_count": null,
   "metadata": {},
   "outputs": [],
   "source": []
  }
 ],
 "metadata": {
  "kernelspec": {
   "display_name": "Python 3",
   "language": "python",
   "name": "python3"
  },
  "language_info": {
   "codemirror_mode": {
    "name": "ipython",
    "version": 3
   },
   "file_extension": ".py",
   "mimetype": "text/x-python",
   "name": "python",
   "nbconvert_exporter": "python",
   "pygments_lexer": "ipython3",
   "version": "3.7.4"
  }
 },
 "nbformat": 4,
 "nbformat_minor": 2
}
